{
 "cells": [
  {
   "cell_type": "markdown",
   "id": "dd19c3a1",
   "metadata": {},
   "source": [
    "## PROJET :  A/B Testing \n",
    "<h3 style=\"color:black;text-align:center;padding: 2% 20% \">STEVE DIFFO</h3>"
   ]
  },
  {
   "cell_type": "markdown",
   "id": "0c565a68",
   "metadata": {},
   "source": [
    "\n",
    "## Problématiques Marketing : Quelle version d’une landing page convertit le mieux les utilisateurs ?\n",
    "\n",
    "\n",
    "## Table des matieres\n",
    "<ul>\n",
    "<li><a href=\"#intro\">Introduction</a></li>\n",
    "<li><a href=\"#preparationDonnees\">Préparation des Données</a></li>\n",
    "<li><a href=\"#Taux\">Calculer les Taux de Conversion</a></li>\n",
    "<li><a href=\"#Tests\">Tests statistiques</a></li>\n",
    "<li><a href=\"#Statistique\">Analyse statistique des résultats</a></li>\n",
    "<li><a href=\"#Decision\">Visualisation des résultats pour la prise de décision</a></li>\n",
    "      \n",
    "<li><a href=\"#conclusion\">Conclusion</a></li>\n",
    "</ul>\n"
   ]
  },
  {
   "cell_type": "markdown",
   "id": "66423183",
   "metadata": {},
   "source": [
    "<a id='intro'></a>\n",
    "## INTRODUCTION\n",
    "\n",
    "> Ce rapport permet d'identifier quelle version d'une landing page convertit le mieux les utilisateurs, Nous allons  suivre une méthode systématique appelée A/B Testing.Pour ce travail nous allons utiliser un ensemble de données provenant de Kaggle . le lien vers notre ensemble de données ce trouve sur L'URL : https://www.kaggle.com/datasets/zhangluyuan/ab-testing\n",
    "\n",
    "\n",
    "\n",
    ">L'objectif principal est : ** d'identifer la page web qui convertit lle mieux les utilisateurs"
   ]
  },
  {
   "cell_type": "code",
   "execution_count": 1,
   "id": "0f094c98",
   "metadata": {},
   "outputs": [],
   "source": [
    "# importation des bibliotheques \n",
    "import pandas as pd\n",
    "import numpy as np\n",
    "import matplotlib.pyplot as plt\n",
    "import seaborn as sns\n",
    "import collections\n",
    "import numpy as np\n",
    "from statsmodels.stats.proportion import proportions_ztest\n",
    "from scipy import stats\n",
    "%matplotlib inline"
   ]
  },
  {
   "cell_type": "markdown",
   "id": "8e81d046",
   "metadata": {},
   "source": [
    "<a id=\"preparationDonnees\"></a>\n",
    "# Preparation des données \n",
    "\n",
    "\n",
    "\n",
    "> Dans cette partie nous allons charger les donnees les explorer et nettoyer"
   ]
  },
  {
   "cell_type": "code",
   "execution_count": 2,
   "id": "387076c7",
   "metadata": {},
   "outputs": [
    {
     "data": {
      "text/html": [
       "<div>\n",
       "<style scoped>\n",
       "    .dataframe tbody tr th:only-of-type {\n",
       "        vertical-align: middle;\n",
       "    }\n",
       "\n",
       "    .dataframe tbody tr th {\n",
       "        vertical-align: top;\n",
       "    }\n",
       "\n",
       "    .dataframe thead th {\n",
       "        text-align: right;\n",
       "    }\n",
       "</style>\n",
       "<table border=\"1\" class=\"dataframe\">\n",
       "  <thead>\n",
       "    <tr style=\"text-align: right;\">\n",
       "      <th></th>\n",
       "      <th>user_id</th>\n",
       "      <th>timestamp</th>\n",
       "      <th>group</th>\n",
       "      <th>landing_page</th>\n",
       "      <th>converted</th>\n",
       "    </tr>\n",
       "  </thead>\n",
       "  <tbody>\n",
       "    <tr>\n",
       "      <th>0</th>\n",
       "      <td>851104</td>\n",
       "      <td>2017-01-21 22:11:48.556739</td>\n",
       "      <td>control</td>\n",
       "      <td>old_page</td>\n",
       "      <td>0</td>\n",
       "    </tr>\n",
       "    <tr>\n",
       "      <th>1</th>\n",
       "      <td>804228</td>\n",
       "      <td>2017-01-12 08:01:45.159739</td>\n",
       "      <td>control</td>\n",
       "      <td>old_page</td>\n",
       "      <td>0</td>\n",
       "    </tr>\n",
       "    <tr>\n",
       "      <th>2</th>\n",
       "      <td>661590</td>\n",
       "      <td>2017-01-11 16:55:06.154213</td>\n",
       "      <td>treatment</td>\n",
       "      <td>new_page</td>\n",
       "      <td>0</td>\n",
       "    </tr>\n",
       "    <tr>\n",
       "      <th>3</th>\n",
       "      <td>853541</td>\n",
       "      <td>2017-01-08 18:28:03.143765</td>\n",
       "      <td>treatment</td>\n",
       "      <td>new_page</td>\n",
       "      <td>0</td>\n",
       "    </tr>\n",
       "    <tr>\n",
       "      <th>4</th>\n",
       "      <td>864975</td>\n",
       "      <td>2017-01-21 01:52:26.210827</td>\n",
       "      <td>control</td>\n",
       "      <td>old_page</td>\n",
       "      <td>1</td>\n",
       "    </tr>\n",
       "    <tr>\n",
       "      <th>...</th>\n",
       "      <td>...</td>\n",
       "      <td>...</td>\n",
       "      <td>...</td>\n",
       "      <td>...</td>\n",
       "      <td>...</td>\n",
       "    </tr>\n",
       "    <tr>\n",
       "      <th>294473</th>\n",
       "      <td>751197</td>\n",
       "      <td>2017-01-03 22:28:38.630509</td>\n",
       "      <td>control</td>\n",
       "      <td>old_page</td>\n",
       "      <td>0</td>\n",
       "    </tr>\n",
       "    <tr>\n",
       "      <th>294474</th>\n",
       "      <td>945152</td>\n",
       "      <td>2017-01-12 00:51:57.078372</td>\n",
       "      <td>control</td>\n",
       "      <td>old_page</td>\n",
       "      <td>0</td>\n",
       "    </tr>\n",
       "    <tr>\n",
       "      <th>294475</th>\n",
       "      <td>734608</td>\n",
       "      <td>2017-01-22 11:45:03.439544</td>\n",
       "      <td>control</td>\n",
       "      <td>old_page</td>\n",
       "      <td>0</td>\n",
       "    </tr>\n",
       "    <tr>\n",
       "      <th>294476</th>\n",
       "      <td>697314</td>\n",
       "      <td>2017-01-15 01:20:28.957438</td>\n",
       "      <td>control</td>\n",
       "      <td>old_page</td>\n",
       "      <td>0</td>\n",
       "    </tr>\n",
       "    <tr>\n",
       "      <th>294477</th>\n",
       "      <td>715931</td>\n",
       "      <td>2017-01-16 12:40:24.467417</td>\n",
       "      <td>treatment</td>\n",
       "      <td>new_page</td>\n",
       "      <td>0</td>\n",
       "    </tr>\n",
       "  </tbody>\n",
       "</table>\n",
       "<p>294478 rows × 5 columns</p>\n",
       "</div>"
      ],
      "text/plain": [
       "        user_id                   timestamp      group landing_page  converted\n",
       "0        851104  2017-01-21 22:11:48.556739    control     old_page          0\n",
       "1        804228  2017-01-12 08:01:45.159739    control     old_page          0\n",
       "2        661590  2017-01-11 16:55:06.154213  treatment     new_page          0\n",
       "3        853541  2017-01-08 18:28:03.143765  treatment     new_page          0\n",
       "4        864975  2017-01-21 01:52:26.210827    control     old_page          1\n",
       "...         ...                         ...        ...          ...        ...\n",
       "294473   751197  2017-01-03 22:28:38.630509    control     old_page          0\n",
       "294474   945152  2017-01-12 00:51:57.078372    control     old_page          0\n",
       "294475   734608  2017-01-22 11:45:03.439544    control     old_page          0\n",
       "294476   697314  2017-01-15 01:20:28.957438    control     old_page          0\n",
       "294477   715931  2017-01-16 12:40:24.467417  treatment     new_page          0\n",
       "\n",
       "[294478 rows x 5 columns]"
      ]
     },
     "execution_count": 2,
     "metadata": {},
     "output_type": "execute_result"
    }
   ],
   "source": [
    "# chargement des données\n",
    "df= pd.read_csv('ab_data.csv')\n",
    "df"
   ]
  },
  {
   "cell_type": "code",
   "execution_count": 3,
   "id": "8ad74331",
   "metadata": {},
   "outputs": [
    {
     "name": "stdout",
     "output_type": "stream",
     "text": [
      "(294478, 5)\n",
      "<class 'pandas.core.frame.DataFrame'>\n",
      "RangeIndex: 294478 entries, 0 to 294477\n",
      "Data columns (total 5 columns):\n",
      " #   Column        Non-Null Count   Dtype \n",
      "---  ------        --------------   ----- \n",
      " 0   user_id       294478 non-null  int64 \n",
      " 1   timestamp     294478 non-null  object\n",
      " 2   group         294478 non-null  object\n",
      " 3   landing_page  294478 non-null  object\n",
      " 4   converted     294478 non-null  int64 \n",
      "dtypes: int64(2), object(3)\n",
      "memory usage: 11.2+ MB\n",
      "None\n"
     ]
    }
   ],
   "source": [
    "# taille des données \n",
    "print(df.shape)\n",
    "# les informations de mon dataset\n",
    "print(df.info())"
   ]
  },
  {
   "cell_type": "code",
   "execution_count": 4,
   "id": "9a1e75eb",
   "metadata": {},
   "outputs": [
    {
     "data": {
      "text/plain": [
       "user_id         0\n",
       "timestamp       0\n",
       "group           0\n",
       "landing_page    0\n",
       "converted       0\n",
       "dtype: int64"
      ]
     },
     "execution_count": 4,
     "metadata": {},
     "output_type": "execute_result"
    }
   ],
   "source": [
    "#vérification des valeurs nulles et dupliquées\n",
    "df.isnull().sum()"
   ]
  },
  {
   "cell_type": "code",
   "execution_count": 5,
   "id": "d000a8fc",
   "metadata": {},
   "outputs": [
    {
     "data": {
      "text/plain": [
       "0"
      ]
     },
     "execution_count": 5,
     "metadata": {},
     "output_type": "execute_result"
    }
   ],
   "source": [
    "df.duplicated().sum()"
   ]
  },
  {
   "cell_type": "code",
   "execution_count": null,
   "id": "1af4ecdc",
   "metadata": {},
   "outputs": [],
   "source": []
  },
  {
   "cell_type": "code",
   "execution_count": 10,
   "id": "656bf47d",
   "metadata": {},
   "outputs": [
    {
     "name": "stdout",
     "output_type": "stream",
     "text": [
      "group\n",
      "treatment    147276\n",
      "control      147202\n",
      "Name: count, dtype: int64\n",
      "landing_page\n",
      "old_page    147239\n",
      "new_page    147239\n",
      "Name: count, dtype: int64\n",
      "Nombre d'anomalies : 3893\n"
     ]
    }
   ],
   "source": [
    "# Vérifier la répartition des groupes et des pages de destination\n",
    "print(df['group'].value_counts())\n",
    "print(df['landing_page'].value_counts())\n",
    "\n",
    "# S'assurer que chaque utilisateur est associé au bon groupe et à la bonne page de destination\n",
    "mismatched = df[(df['group'] == 'control') & (df['landing_page'] != 'old_page') |\n",
    "                (df['group'] == 'treatment') & (df['landing_page'] != 'new_page')]\n",
    "print(f\"Nombre d'anomalies : {mismatched.shape[0]}\")"
   ]
  },
  {
   "cell_type": "code",
   "execution_count": 11,
   "id": "705bed3e",
   "metadata": {},
   "outputs": [
    {
     "name": "stdout",
     "output_type": "stream",
     "text": [
      "group\n",
      "treatment    145311\n",
      "control      145274\n",
      "Name: count, dtype: int64\n",
      "landing_page\n",
      "new_page    145311\n",
      "old_page    145274\n",
      "Name: count, dtype: int64\n",
      "Nombre d'anomalies après exclusion : 0\n"
     ]
    }
   ],
   "source": [
    "# Créer un nouveau DataFrame sans les anomalies\n",
    "df_clean = df.drop(mismatched.index)\n",
    "\n",
    "# Vérifier la répartition des groupes et des pages de destination dans le DataFrame nettoyé\n",
    "print(df_clean['group'].value_counts())\n",
    "print(df_clean['landing_page'].value_counts())\n",
    "\n",
    "# Vérifier que les anomalies ont bien été exclues\n",
    "mismatched_clean = df_clean[(df_clean['group'] == 'control') & (df_clean['landing_page'] != 'old_page') |\n",
    "                            (df_clean['group'] == 'treatment') & (df_clean['landing_page'] != 'new_page')]\n",
    "print(f\"Nombre d'anomalies après exclusion : {mismatched_clean.shape[0]}\")"
   ]
  },
  {
   "cell_type": "markdown",
   "id": "7ad99efe",
   "metadata": {},
   "source": [
    "<a id='Taux'></a>\n",
    "# Calculer les Taux de Conversion"
   ]
  },
  {
   "cell_type": "markdown",
   "id": "a81bff8b",
   "metadata": {},
   "source": [
    ">afficharge des utilisateurs convertir et non \n"
   ]
  },
  {
   "cell_type": "code",
   "execution_count": 16,
   "id": "7954d5b8",
   "metadata": {},
   "outputs": [
    {
     "name": "stdout",
     "output_type": "stream",
     "text": [
      "taille utilisateurs convertir (34753, 5)\n",
      "taille finale des data (290585, 5)\n"
     ]
    },
    {
     "data": {
      "text/html": [
       "<div>\n",
       "<style scoped>\n",
       "    .dataframe tbody tr th:only-of-type {\n",
       "        vertical-align: middle;\n",
       "    }\n",
       "\n",
       "    .dataframe tbody tr th {\n",
       "        vertical-align: top;\n",
       "    }\n",
       "\n",
       "    .dataframe thead th {\n",
       "        text-align: right;\n",
       "    }\n",
       "</style>\n",
       "<table border=\"1\" class=\"dataframe\">\n",
       "  <thead>\n",
       "    <tr style=\"text-align: right;\">\n",
       "      <th></th>\n",
       "      <th>user_id</th>\n",
       "      <th>timestamp</th>\n",
       "      <th>group</th>\n",
       "      <th>landing_page</th>\n",
       "      <th>converted</th>\n",
       "    </tr>\n",
       "  </thead>\n",
       "  <tbody>\n",
       "    <tr>\n",
       "      <th>4</th>\n",
       "      <td>864975</td>\n",
       "      <td>2017-01-21 01:52:26.210827</td>\n",
       "      <td>control</td>\n",
       "      <td>old_page</td>\n",
       "      <td>1</td>\n",
       "    </tr>\n",
       "    <tr>\n",
       "      <th>6</th>\n",
       "      <td>679687</td>\n",
       "      <td>2017-01-19 03:26:46.940749</td>\n",
       "      <td>treatment</td>\n",
       "      <td>new_page</td>\n",
       "      <td>1</td>\n",
       "    </tr>\n",
       "    <tr>\n",
       "      <th>8</th>\n",
       "      <td>817355</td>\n",
       "      <td>2017-01-04 17:58:08.979471</td>\n",
       "      <td>treatment</td>\n",
       "      <td>new_page</td>\n",
       "      <td>1</td>\n",
       "    </tr>\n",
       "    <tr>\n",
       "      <th>9</th>\n",
       "      <td>839785</td>\n",
       "      <td>2017-01-15 18:11:06.610965</td>\n",
       "      <td>treatment</td>\n",
       "      <td>new_page</td>\n",
       "      <td>1</td>\n",
       "    </tr>\n",
       "    <tr>\n",
       "      <th>15</th>\n",
       "      <td>644214</td>\n",
       "      <td>2017-01-22 02:05:21.719434</td>\n",
       "      <td>control</td>\n",
       "      <td>old_page</td>\n",
       "      <td>1</td>\n",
       "    </tr>\n",
       "    <tr>\n",
       "      <th>...</th>\n",
       "      <td>...</td>\n",
       "      <td>...</td>\n",
       "      <td>...</td>\n",
       "      <td>...</td>\n",
       "      <td>...</td>\n",
       "    </tr>\n",
       "    <tr>\n",
       "      <th>294396</th>\n",
       "      <td>838593</td>\n",
       "      <td>2017-01-15 09:56:31.455023</td>\n",
       "      <td>treatment</td>\n",
       "      <td>new_page</td>\n",
       "      <td>1</td>\n",
       "    </tr>\n",
       "    <tr>\n",
       "      <th>294405</th>\n",
       "      <td>712217</td>\n",
       "      <td>2017-01-11 10:34:30.176801</td>\n",
       "      <td>control</td>\n",
       "      <td>old_page</td>\n",
       "      <td>1</td>\n",
       "    </tr>\n",
       "    <tr>\n",
       "      <th>294420</th>\n",
       "      <td>795742</td>\n",
       "      <td>2017-01-09 01:06:58.299207</td>\n",
       "      <td>control</td>\n",
       "      <td>old_page</td>\n",
       "      <td>1</td>\n",
       "    </tr>\n",
       "    <tr>\n",
       "      <th>294430</th>\n",
       "      <td>733871</td>\n",
       "      <td>2017-01-21 17:54:08.810964</td>\n",
       "      <td>treatment</td>\n",
       "      <td>new_page</td>\n",
       "      <td>1</td>\n",
       "    </tr>\n",
       "    <tr>\n",
       "      <th>294443</th>\n",
       "      <td>665217</td>\n",
       "      <td>2017-01-10 23:29:01.767720</td>\n",
       "      <td>control</td>\n",
       "      <td>old_page</td>\n",
       "      <td>1</td>\n",
       "    </tr>\n",
       "  </tbody>\n",
       "</table>\n",
       "<p>34753 rows × 5 columns</p>\n",
       "</div>"
      ],
      "text/plain": [
       "        user_id                   timestamp      group landing_page  converted\n",
       "4        864975  2017-01-21 01:52:26.210827    control     old_page          1\n",
       "6        679687  2017-01-19 03:26:46.940749  treatment     new_page          1\n",
       "8        817355  2017-01-04 17:58:08.979471  treatment     new_page          1\n",
       "9        839785  2017-01-15 18:11:06.610965  treatment     new_page          1\n",
       "15       644214  2017-01-22 02:05:21.719434    control     old_page          1\n",
       "...         ...                         ...        ...          ...        ...\n",
       "294396   838593  2017-01-15 09:56:31.455023  treatment     new_page          1\n",
       "294405   712217  2017-01-11 10:34:30.176801    control     old_page          1\n",
       "294420   795742  2017-01-09 01:06:58.299207    control     old_page          1\n",
       "294430   733871  2017-01-21 17:54:08.810964  treatment     new_page          1\n",
       "294443   665217  2017-01-10 23:29:01.767720    control     old_page          1\n",
       "\n",
       "[34753 rows x 5 columns]"
      ]
     },
     "execution_count": 16,
     "metadata": {},
     "output_type": "execute_result"
    }
   ],
   "source": [
    "uti_convertir = df_clean[df_clean['converted']==1]\n",
    "uti_convertir\n",
    "# taille des utilisateurs convertir \n",
    "print('taille utilisateurs convertir',uti_convertir.shape)\n",
    "print('taille finale des data',df_clean.shape)\n",
    "uti_convertir"
   ]
  },
  {
   "cell_type": "code",
   "execution_count": 17,
   "id": "ba2f8579",
   "metadata": {},
   "outputs": [
    {
     "name": "stdout",
     "output_type": "stream",
     "text": [
      "group\n",
      "control      0.120386\n",
      "treatment    0.118807\n",
      "Name: converted, dtype: float64\n",
      "group\n",
      "control      17489\n",
      "treatment    17264\n",
      "Name: converted, dtype: int64\n",
      "group\n",
      "control      145274\n",
      "treatment    145311\n",
      "Name: converted, dtype: int64\n"
     ]
    }
   ],
   "source": [
    "# Calculer les taux de conversion pour chaque groupe\n",
    "conversion_rates = df_clean.groupby('group')['converted'].mean()\n",
    "print(conversion_rates)\n",
    "\n",
    "# Nombre de conversions et de visites pour chaque groupe\n",
    "conversions = df_clean.groupby('group')['converted'].sum()\n",
    "visitors = df_clean.groupby('group')['converted'].count()\n",
    "print(conversions)\n",
    "print(visitors)\n"
   ]
  },
  {
   "cell_type": "markdown",
   "id": "692493cd",
   "metadata": {},
   "source": [
    "<a id='Tests'></a>\n",
    "# Test statistique"
   ]
  },
  {
   "cell_type": "markdown",
   "id": "def391e9",
   "metadata": {},
   "source": [
    "## Le test Z pour proportions est utilisé en A/B testing pour vérifier si la différence entre deux taux est significative ou non."
   ]
  },
  {
   "cell_type": "code",
   "execution_count": 18,
   "id": "b48f6be9",
   "metadata": {},
   "outputs": [
    {
     "name": "stdout",
     "output_type": "stream",
     "text": [
      "Statistique de test : 1.3116075339133115\n",
      "Valeur p : 0.18965258971881804\n",
      "Il n'y a pas de différence significative entre les deux versions de la landing page.\n"
     ]
    }
   ],
   "source": [
    "from statsmodels.stats.proportion import proportions_ztest\n",
    "\n",
    "# Données pour le test\n",
    "converted = df_clean[df_clean['converted'] == 1].groupby('group')['user_id'].count()\n",
    "visitors = df_clean.groupby('group')['user_id'].count()\n",
    "\n",
    "# Test de proportion z\n",
    "stat, p_value = proportions_ztest(converted, visitors)\n",
    "print(f'Statistique de test : {stat}')\n",
    "print(f'Valeur p : {p_value}')\n",
    "\n",
    "# Interprétation des résultats\n",
    "alpha = 0.05  # Niveau de signification\n",
    "if p_value < alpha:\n",
    "    print(\"Il y a une différence significative entre les deux versions de la landing page.\")\n",
    "else:\n",
    "    print(\"Il n'y a pas de différence significative entre les deux versions de la landing page.\")\n"
   ]
  },
  {
   "cell_type": "code",
   "execution_count": null,
   "id": "bfc0cbf6",
   "metadata": {},
   "outputs": [],
   "source": []
  },
  {
   "cell_type": "markdown",
   "id": "a5a02914",
   "metadata": {},
   "source": [
    "<a id=\"Statistique\"></a>\n",
    "## Analyse statistique des résultats"
   ]
  },
  {
   "cell_type": "markdown",
   "id": "9ee80210",
   "metadata": {},
   "source": [
    "> Nous constatons que nous avons  un test statistique de 1.31 une P valeur de 0.18 qui est supérieure au niveau de significativité  0.05 donc il y'a pas de différence signification entre les deux versions de la landing page "
   ]
  },
  {
   "cell_type": "markdown",
   "id": "dd320005",
   "metadata": {},
   "source": [
    "<a id=\"Decision\"></a>\n",
    "## Visualisation des résultats pour la prise de décision"
   ]
  },
  {
   "cell_type": "code",
   "execution_count": 19,
   "id": "2d6eff5c",
   "metadata": {},
   "outputs": [
    {
     "data": {
      "image/png": "[encoded data removed]",
      "text/plain": [
       "<Figure size 1000x600 with 1 Axes>"
      ]
     },
     "metadata": {},
     "output_type": "display_data"
    }
   ],
   "source": [
    "\n",
    "# Créer un boxplot pour visualiser la distribution des taux de conversion par groupe\n",
    "plt.figure(figsize=(10, 6))\n",
    "sns.boxplot(x='group', y='converted', data=df_clean, palette='viridis')\n",
    "plt.title('Distribution des Taux de Conversion par Groupe')\n",
    "plt.xlabel('Groupe')\n",
    "plt.ylabel('Taux de Conversion')\n",
    "plt.show()\n"
   ]
  },
  {
   "cell_type": "code",
   "execution_count": 20,
   "id": "ebcc4947",
   "metadata": {},
   "outputs": [
    {
     "data": {
      "image/png": "[encoded data removed]",
      "text/plain": [
       "<Figure size 800x600 with 1 Axes>"
      ]
     },
     "metadata": {},
     "output_type": "display_data"
    }
   ],
   "source": [
    "\n",
    "# Visualiser les taux de conversion par groupe\n",
    "plt.figure(figsize=(8, 6))\n",
    "sns.barplot(x=conversion_rates.index, y=conversion_rates.values, palette='viridis')\n",
    "plt.title('Taux de Conversion par Groupe')\n",
    "plt.xlabel('Groupe')\n",
    "plt.ylabel('Taux de Conversion')\n",
    "plt.ylim(0, max(conversion_rates) + 0.05)\n",
    "\n",
    "# Afficher les valeurs sur les barres\n",
    "for i, v in enumerate(conversion_rates.values):\n",
    "    plt.text(i, v + 0.01, f'{v:.2%}', ha='center', va='bottom')\n",
    "\n",
    "plt.show()\n"
   ]
  },
  {
   "cell_type": "markdown",
   "id": "03480c80",
   "metadata": {},
   "source": [
    "> Nous Constatons que nous n'avons pas de difference significative entre les deux pages Web"
   ]
  },
  {
   "cell_type": "markdown",
   "id": "93fe9d39",
   "metadata": {},
   "source": [
    "<a id=\"conclusion\"></a>\n",
    "\n",
    "\n",
    "## CONCLUSION\n",
    "\n",
    "### Résumé\n",
    "Nous avons effectué un A/B testing pour comparer les taux de conversion de deux versions de notre landing page. Les résultats de tests et de visualisations indiquent qu'il n'y a pas de différence significative entre les deux versions.\n",
    "\n",
    "### Détails des Résultats\n",
    "- **Statistique de test** :  1.3116075339133115\n",
    "- **Valeur p** : 0.18965258971881804\n",
    "\n",
    "- **Conclusion** : Aucune différence statistiquement significative n'a été trouvée entre les deux versions de la landing page.\n",
    "\n",
    "### Actions Recommandées\n",
    "1. Continuer les tests avec un échantillon plus large.\n",
    "2. Explorer de nouvelles hypothèses de modification.\n",
    "3. Optimiser continuellement la landing page en fonction des insights obtenus.\n",
    "\n",
    "### Prochaines Étapes\n",
    "1. Examiner les métriques supplémentaires.\n",
    "2. Planifier et exécuter des tests A/B supplémentaires.\n",
    "3. Réaliser des réunions de brainstorming pour générer de nouvelles idées de variations.\n",
    "4. Implémenter les changements progressifs et suivre les performances.\n",
    "\n",
    "\n"
   ]
  },
  {
   "cell_type": "code",
   "execution_count": null,
   "id": "044f4828",
   "metadata": {},
   "outputs": [],
   "source": []
  }
 ],
 "metadata": {
  "kernelspec": {
   "display_name": "Python 3 (ipykernel)",
   "language": "python",
   "name": "python3"
  },
  "language_info": {
   "codemirror_mode": {
    "name": "ipython",
    "version": 3
   },
   "file_extension": ".py",
   "mimetype": "text/x-python",
   "name": "python",
   "nbconvert_exporter": "python",
   "pygments_lexer": "ipython3",
   "version": "3.11.5"
  }
 },
 "nbformat": 4,
 "nbformat_minor": 5
}
